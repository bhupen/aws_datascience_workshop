{
 "cells": [
  {
   "cell_type": "markdown",
   "metadata": {},
   "source": [
    "# Feature Transformation with Amazon a SageMaker Processing Job and Scikit-Learn\n",
    "\n",
    "Typically a machine learning (ML) process consists of few steps. First, gathering data with various ETL jobs, then pre-processing the data, featurizing the dataset by incorporating standard techniques or prior knowledge, and finally training an ML model using an algorithm.\n",
    "\n",
    "Often, distributed data processing frameworks such as Scikit-Learn are used to pre-process data sets in order to prepare them for training. In this notebook we'll use Amazon SageMaker Processing, and leverage the power of Scikit-Learn in a managed SageMaker environment to run our processing workload."
   ]
  },
  {
   "cell_type": "markdown",
   "metadata": {},
   "source": [
    "![](img/prepare_dataset_bert.png)\n",
    "\n",
    "![](img/processing.jpg)\n"
   ]
  },
  {
   "cell_type": "markdown",
   "metadata": {},
   "source": [
    "## Contents\n",
    "\n",
    "1. Setup Environment\n",
    "1. Setup Input Data\n",
    "1. Setup Output Data\n",
    "1. Build a Spark container for running the processing job\n",
    "1. Run the Processing Job using Amazon SageMaker\n",
    "1. Inspect the Processed Output Data"
   ]
  },
  {
   "cell_type": "markdown",
   "metadata": {},
   "source": [
    "# Setup Environment\n",
    "\n",
    "Let's start by specifying:\n",
    "* The S3 bucket and prefixes that you use for training and model data. Use the default bucket specified by the Amazon SageMaker session.\n",
    "* The IAM role ARN used to give processing and training access to the dataset."
   ]
  },
  {
   "cell_type": "code",
   "execution_count": 1,
   "metadata": {},
   "outputs": [],
   "source": [
    "import sagemaker\n",
    "from time import gmtime, strftime\n",
    "import boto3\n",
    "\n",
    "sagemaker_session = sagemaker.Session()\n",
    "role = sagemaker.get_execution_role()\n",
    "bucket = sagemaker_session.default_bucket()\n",
    "region = boto3.Session().region_name"
   ]
  },
  {
   "cell_type": "markdown",
   "metadata": {},
   "source": [
    "# Setup Input Data"
   ]
  },
  {
   "cell_type": "code",
   "execution_count": 2,
   "metadata": {},
   "outputs": [
    {
     "name": "stdout",
     "output_type": "stream",
     "text": [
      "s3://sagemaker-us-west-2-086401037028/amazon-reviews-pds/tsv/\n"
     ]
    }
   ],
   "source": [
    "# Inputs\n",
    "s3_input_data = 's3://{}/amazon-reviews-pds/tsv/'.format(bucket)\n",
    "print(s3_input_data)"
   ]
  },
  {
   "cell_type": "code",
   "execution_count": 3,
   "metadata": {
    "scrolled": true
   },
   "outputs": [
    {
     "name": "stdout",
     "output_type": "stream",
     "text": [
      "2020-04-25 16:31:58   18997559 amazon_reviews_us_Digital_Software_v1_00.tsv.gz\r\n",
      "2020-04-25 16:32:07   27442648 amazon_reviews_us_Digital_Video_Games_v1_00.tsv.gz\r\n"
     ]
    }
   ],
   "source": [
    "!aws s3 ls $s3_input_data"
   ]
  },
  {
   "cell_type": "markdown",
   "metadata": {},
   "source": [
    "# Run the Processing Job using Amazon SageMaker\n",
    "\n",
    "Next, use the Amazon SageMaker Python SDK to submit a processing job. Use the Spark container that was just built, and a SparkML script for processing in the job configuration."
   ]
  },
  {
   "cell_type": "markdown",
   "metadata": {},
   "source": [
    "Review the Spark processing script."
   ]
  },
  {
   "cell_type": "code",
   "execution_count": 4,
   "metadata": {},
   "outputs": [
    {
     "name": "stdout",
     "output_type": "stream",
     "text": [
      "from sklearn.model_selection import train_test_split\r\n",
      "from sklearn.utils import resample\r\n",
      "import functools\r\n",
      "import multiprocessing\r\n",
      "\r\n",
      "import pandas as pd\r\n",
      "from datetime import datetime\r\n",
      "import subprocess\r\n",
      "import sys\r\n",
      "subprocess.check_call([sys.executable, '-m', 'pip', 'install', 'tensorflow==2.1.0'])\r\n",
      "import tensorflow as tf\r\n",
      "print(tf.__version__)\r\n",
      "subprocess.check_call([sys.executable, '-m', 'pip', 'install', 'transformers==2.7.0'])\r\n",
      "from transformers import DistilBertTokenizer\r\n",
      "from tensorflow import keras\r\n",
      "import os\r\n",
      "import re\r\n",
      "import collections\r\n",
      "import argparse\r\n",
      "import json\r\n",
      "import os\r\n",
      "import pandas as pd\r\n",
      "import csv\r\n",
      "import glob\r\n",
      "from pathlib import Path\r\n",
      "\r\n",
      "class InputFeatures(object):\r\n",
      "  \"\"\"A single set of features of data.\"\"\"\r\n",
      "\r\n",
      "  def __init__(self,\r\n",
      "               input_ids,\r\n",
      "               input_mask,\r\n",
      "               segment_ids,\r\n",
      "               label_id):\r\n",
      "    self.input_ids = input_ids\r\n",
      "    self.input_mask = input_mask\r\n",
      "    self.segment_ids = segment_ids\r\n",
      "    self.label_id = label_id\r\n",
      "    \r\n",
      "    \r\n",
      "def convert_single_example(ex_index, example, label_list, max_seq_length,\r\n",
      "                           tokenizer):\r\n",
      "  \"\"\"Converts a single `InputExample` into a single `InputFeatures`.\"\"\"\r\n",
      "\r\n",
      "  label_map = {}\r\n",
      "  for (i, label) in enumerate(label_list):\r\n",
      "    label_map[label] = i\r\n",
      "\r\n",
      "  tokens_a = tokenizer.tokenize(example.text_a)\r\n",
      "  tokens_b = None\r\n",
      "  if example.text_b:\r\n",
      "    tokens_b = tokenizer.tokenize(example.text_b)\r\n",
      "\r\n",
      "  if tokens_b:\r\n",
      "    # Modifies `tokens_a` and `tokens_b` in place so that the total\r\n",
      "    # length is less than the specified length.\r\n",
      "    # Account for [CLS], [SEP], [SEP] with \"- 3\"\r\n",
      "    _truncate_seq_pair(tokens_a, tokens_b, max_seq_length - 3)\r\n",
      "  else:\r\n",
      "    # Account for [CLS] and [SEP] with \"- 2\"\r\n",
      "    if len(tokens_a) > max_seq_length - 2:\r\n",
      "      tokens_a = tokens_a[0:(max_seq_length - 2)]\r\n",
      "\r\n",
      "  # The convention in BERT is:\r\n",
      "  # (a) For sequence pairs:\r\n",
      "  #  tokens:   [CLS] is this jack ##son ##ville ? [SEP] no it is not . [SEP]\r\n",
      "  #  type_ids: 0     0  0    0    0     0       0 0     1  1  1  1   1 1\r\n",
      "  # (b) For single sequences:\r\n",
      "  #  tokens:   [CLS] the dog is hairy . [SEP]\r\n",
      "  #  type_ids: 0     0   0   0  0     0 0\r\n",
      "  #\r\n",
      "  # Where \"type_ids\" are used to indicate whether this is the first\r\n",
      "  # sequence or the second sequence. The embedding vectors for `type=0` and\r\n",
      "  # `type=1` were learned during pre-training and are added to the wordpiece\r\n",
      "  # embedding vector (and position vector). This is not *strictly* necessary\r\n",
      "  # since the [SEP] token unambiguously separates the sequences, but it makes\r\n",
      "  # it easier for the model to learn the concept of sequences.\r\n",
      "  #\r\n",
      "  # For classification tasks, the first vector (corresponding to [CLS]) is\r\n",
      "  # used as the \"sentence vector\". Note that this only makes sense because\r\n",
      "  # the entire model is fine-tuned.\r\n",
      "  tokens = []\r\n",
      "  segment_ids = []\r\n",
      "  tokens.append(\"[CLS]\")\r\n",
      "  segment_ids.append(0)\r\n",
      "  for token in tokens_a:\r\n",
      "    tokens.append(token)\r\n",
      "    segment_ids.append(0)\r\n",
      "  tokens.append(\"[SEP]\")\r\n",
      "  segment_ids.append(0)\r\n",
      "\r\n",
      "  if tokens_b:\r\n",
      "    for token in tokens_b:\r\n",
      "      tokens.append(token)\r\n",
      "      segment_ids.append(1)\r\n",
      "    tokens.append(\"[SEP]\")\r\n",
      "    segment_ids.append(1)\r\n",
      "\r\n",
      "  input_ids = tokenizer.convert_tokens_to_ids(tokens)\r\n",
      "\r\n",
      "  # The mask has 1 for real tokens and 0 for padding tokens. Only real\r\n",
      "  # tokens are attended to.\r\n",
      "  input_mask = [1] * len(input_ids)\r\n",
      "\r\n",
      "  # Zero-pad up to the sequence length.\r\n",
      "  while len(input_ids) < max_seq_length:\r\n",
      "    input_ids.append(0)\r\n",
      "    input_mask.append(0)\r\n",
      "    segment_ids.append(0)\r\n",
      "\r\n",
      "  assert len(input_ids) == max_seq_length\r\n",
      "  assert len(input_mask) == max_seq_length\r\n",
      "  assert len(segment_ids) == max_seq_length\r\n",
      "\r\n",
      "  label_id = label_map[example.label]\r\n",
      "\r\n",
      "  feature = InputFeatures(\r\n",
      "      input_ids=input_ids,\r\n",
      "      input_mask=input_mask,\r\n",
      "      segment_ids=segment_ids,\r\n",
      "      label_id=label_id)\r\n",
      "  return feature\r\n",
      "\r\n",
      "\r\n",
      "def file_based_convert_examples_to_features(\r\n",
      "    examples, label_list, max_seq_length, tokenizer, output_file):\r\n",
      "  \"\"\"Convert a set of `InputExample`s to a TFRecord file.\"\"\"\r\n",
      "\r\n",
      "  writer = tf.io.TFRecordWriter(output_file)\r\n",
      "\r\n",
      "  for (ex_index, example) in enumerate(examples):\r\n",
      "    if ex_index % 10000 == 0:\r\n",
      "      print(\"Writing example %d of %d\" % (ex_index, len(examples)))\r\n",
      "\r\n",
      "    feature = convert_single_example(ex_index, example, label_list,\r\n",
      "                                     max_seq_length, tokenizer)\r\n",
      "\r\n",
      "    def create_int_feature(values):\r\n",
      "      f = tf.train.Feature(int64_list=tf.train.Int64List(value=list(values)))\r\n",
      "      return f\r\n",
      "\r\n",
      "    features = collections.OrderedDict()\r\n",
      "    features[\"input_ids\"] = create_int_feature(feature.input_ids)\r\n",
      "    features[\"input_mask\"] = create_int_feature(feature.input_mask)\r\n",
      "    features[\"segment_ids\"] = create_int_feature(feature.segment_ids)\r\n",
      "    features[\"label_ids\"] = create_int_feature([feature.label_id])\r\n",
      "\r\n",
      "    tf_example = tf.train.Example(features=tf.train.Features(feature=features))\r\n",
      "    writer.write(tf_example.SerializeToString())\r\n",
      "  writer.close()\r\n",
      "\r\n",
      "\r\n",
      "\r\n",
      "class InputExample(object):\r\n",
      "  \"\"\"A single training/test example for simple sequence classification.\"\"\"\r\n",
      "\r\n",
      "  def __init__(self, guid, text_a, text_b=None, label=None):\r\n",
      "    \"\"\"Constructs a InputExample.\r\n",
      "    Args:\r\n",
      "      guid: Unique id for the example.\r\n",
      "      text_a: string. The untokenized text of the first sequence. For single\r\n",
      "        sequence tasks, only this sequence must be specified.\r\n",
      "      text_b: (Optional) string. The untokenized text of the second sequence.\r\n",
      "        Only must be specified for sequence pair tasks.\r\n",
      "      label: (Optional) string. The label of the example. This should be\r\n",
      "        specified for train and dev examples, but not for test examples.\r\n",
      "    \"\"\"\r\n",
      "    self.guid = guid\r\n",
      "    self.text_a = text_a\r\n",
      "    self.text_b = text_b\r\n",
      "    self.label = label\r\n",
      "    \r\n",
      "    \r\n",
      "def list_arg(raw_value):\r\n",
      "    \"\"\"argparse type for a list of strings\"\"\"\r\n",
      "    return str(raw_value).split(',')\r\n",
      "\r\n",
      "\r\n",
      "def parse_args():\r\n",
      "    # Unlike SageMaker training jobs (which have `SM_HOSTS` and `SM_CURRENT_HOST` env vars), processing jobs to need to parse the resource config file directly\r\n",
      "    resconfig = {}\r\n",
      "    try:\r\n",
      "        with open('/opt/ml/config/resourceconfig.json', 'r') as cfgfile:\r\n",
      "            resconfig = json.load(cfgfile)\r\n",
      "    except FileNotFoundError:\r\n",
      "        print('/opt/ml/config/resourceconfig.json not found.  current_host is unknown.')\r\n",
      "        pass # Ignore\r\n",
      "\r\n",
      "    # Local testing with CLI args\r\n",
      "    parser = argparse.ArgumentParser(description='Process')\r\n",
      "\r\n",
      "    parser.add_argument('--hosts', type=list_arg,\r\n",
      "        default=resconfig.get('hosts', ['unknown']),\r\n",
      "        help='Comma-separated list of host names running the job'\r\n",
      "    )\r\n",
      "    parser.add_argument('--current-host', type=str,\r\n",
      "        default=resconfig.get('current_host', 'unknown'),\r\n",
      "        help='Name of this host running the job'\r\n",
      "    )\r\n",
      "    parser.add_argument('--input-data', type=str,\r\n",
      "        default='/opt/ml/processing/input/data',\r\n",
      "    )\r\n",
      "    parser.add_argument('--output-data', type=str,\r\n",
      "        default='/opt/ml/processing/output',\r\n",
      "    )\r\n",
      "    return parser.parse_args()\r\n",
      "\r\n",
      "\r\n",
      "def file_based_convert_examples_to_features(\r\n",
      "    examples, label_list, max_seq_length, tokenizer, output_file):\r\n",
      "  \"\"\"Convert a set of `InputExample`s to a TFRecord file.\"\"\"\r\n",
      "\r\n",
      "  writer = tf.io.TFRecordWriter(output_file)\r\n",
      "\r\n",
      "  for (ex_index, example) in enumerate(examples):\r\n",
      "    if ex_index % 10000 == 0:\r\n",
      "      print(\"Writing example %d of %d\" % (ex_index, len(examples)))\r\n",
      "\r\n",
      "    feature = convert_single_example(ex_index, example, label_list,\r\n",
      "                                     max_seq_length, tokenizer)\r\n",
      "\r\n",
      "    def create_int_feature(values):\r\n",
      "      f = tf.train.Feature(int64_list=tf.train.Int64List(value=list(values)))\r\n",
      "      return f\r\n",
      "\r\n",
      "    features = collections.OrderedDict()\r\n",
      "    features[\"input_ids\"] = create_int_feature(feature.input_ids)\r\n",
      "    features[\"input_mask\"] = create_int_feature(feature.input_mask)\r\n",
      "    features[\"segment_ids\"] = create_int_feature(feature.segment_ids)\r\n",
      "    features[\"label_ids\"] = create_int_feature([feature.label_id])\r\n",
      "\r\n",
      "    tf_example = tf.train.Example(features=tf.train.Features(feature=features))\r\n",
      "    writer.write(tf_example.SerializeToString())\r\n",
      "  writer.close()\r\n",
      "\r\n",
      "    \r\n",
      "def _transform_tsv_to_tfrecord(file):\r\n",
      "    print(file)\r\n",
      "\r\n",
      "    filename_without_extension = Path(Path(file).stem).stem\r\n",
      "\r\n",
      "    df = pd.read_csv(file, \r\n",
      "                     delimiter='\\t', \r\n",
      "                     quoting=csv.QUOTE_NONE,\r\n",
      "                     compression='gzip')\r\n",
      "\r\n",
      "    df.isna().values.any()\r\n",
      "    df = df.dropna()\r\n",
      "    df = df.reset_index(drop=True)\r\n",
      "\r\n",
      "    # Split all data into 90% train and 10% holdout\r\n",
      "    df_train, df_holdout = train_test_split(df, test_size=0.10, stratify=df['star_rating'])        \r\n",
      "    # Split holdout data into 50% validation and t0% test\r\n",
      "    df_validation, df_test = train_test_split(df_holdout, test_size=0.50, stratify=df_holdout['star_rating'])\r\n",
      "\r\n",
      "    df_train = df_train.reset_index(drop=True)\r\n",
      "    df_validation = df_validation.reset_index(drop=True)\r\n",
      "    df_test = df_test.reset_index(drop=True)\r\n",
      "\r\n",
      "    DATA_COLUMN = 'review_body'\r\n",
      "    LABEL_COLUMN = 'star_rating'\r\n",
      "    LABEL_VALUES = [1, 2, 3, 4, 5]\r\n",
      "\r\n",
      "    #\r\n",
      "    # Data Preprocessing\r\n",
      "    #\r\n",
      "    # We'll need to transform our data into a format BERT understands. This involves two steps. First, we create  `InputExample`'s using the constructor provided in the BERT library.\r\n",
      "    # \r\n",
      "    # - `text_a` is the text we want to classify, which in this case, is the `Request` field in our Dataframe. \r\n",
      "    # - `text_b` is used if we're training a model to understand the relationship between sentences (i.e. is `text_b` a translation of `text_a`? Is `text_b` an answer to the question asked by `text_a`?). This doesn't apply to our task since we are predicting sentiment, so we can leave `text_b` blank.\r\n",
      "    # - `label` is the label for our example (0 or 1)\r\n",
      "\r\n",
      "    # Use the InputExample class from BERT's run_classifier code to create examples from the data\r\n",
      "    train_InputExamples = df_train.apply(lambda x: InputExample(guid=None, # Unused in this example\r\n",
      "                                                                text_a = x[DATA_COLUMN], \r\n",
      "                                                                text_b = None, \r\n",
      "                                                                label = x[LABEL_COLUMN]), axis = 1)\r\n",
      "\r\n",
      "    validation_InputExamples = df_validation.apply(lambda x: InputExample(guid=None, \r\n",
      "                                                                          text_a = x[DATA_COLUMN], \r\n",
      "                                                                          text_b = None, \r\n",
      "                                                                          label = x[LABEL_COLUMN]), axis = 1)\r\n",
      "\r\n",
      "    test_InputExamples = df_test.apply(lambda x: InputExample(guid=None, \r\n",
      "                                                              text_a = x[DATA_COLUMN], \r\n",
      "                                                              text_b = None, \r\n",
      "                                                              label = x[LABEL_COLUMN]), axis = 1)\r\n",
      "\r\n",
      "    # Next, we need to preprocess our data so that it matches the data BERT was trained on. For this, we'll need to do a couple of things (but don't worry--this is also included in the Python library):\r\n",
      "    # \r\n",
      "    # \r\n",
      "    # 1. Lowercase our text (if we're using a BERT lowercase model)\r\n",
      "    # 2. Tokenize it (i.e. \"sally says hi\" -> [\"sally\", \"says\", \"hi\"])\r\n",
      "    # 3. Break words into WordPieces (i.e. \"calling\" -> [\"call\", \"##ing\"])\r\n",
      "    # 4. Map our words to indexes using a vocab file that BERT provides\r\n",
      "    # 5. Add special \"CLS\" and \"SEP\" tokens (see the [readme](https://github.com/google-research/bert))\r\n",
      "    # 6. Append \"index\" and \"segment\" tokens to each input (see the [BERT paper](https://arxiv.org/pdf/1810.04805.pdf))\r\n",
      "    # \r\n",
      "    # We don't have to worry about these details.  The Transformers tokenizer does this for us.\r\n",
      "    # \r\n",
      "    tokenizer = DistilBertTokenizer.from_pretrained('distilbert-base-uncased')\r\n",
      "    tokenizer.tokenize(\"This here's an example of using the BERT tokenizer\")\r\n",
      "\r\n",
      "    # Using our tokenizer, we'll call `file_based_convert_examples_to_features` on our InputExamples to convert them into features BERT understands, then write the features to a file.\r\n",
      "\r\n",
      "    # We'll set sequences to be at most 128 tokens long.\r\n",
      "    MAX_SEQ_LENGTH = 128\r\n",
      "\r\n",
      "    train_data = '{}/bert/train'.format(args.output_data)\r\n",
      "    validation_data = '{}/bert/validation'.format(args.output_data)\r\n",
      "    test_data = '{}/bert/test'.format(args.output_data)\r\n",
      "\r\n",
      "    # Convert our train and validation features to InputFeatures (.tfrecord protobuf) that works with BERT and TensorFlow.\r\n",
      "    df_train_embeddings = file_based_convert_examples_to_features(train_InputExamples, LABEL_VALUES, MAX_SEQ_LENGTH, tokenizer, '{}/part-{}-{}.tfrecord'.format(train_data, args.current_host, filename_without_extension))\r\n",
      "\r\n",
      "    df_validation_embeddings = file_based_convert_examples_to_features(validation_InputExamples, LABEL_VALUES, MAX_SEQ_LENGTH, tokenizer, '{}/part-{}-{}.tfrecord'.format(validation_data, args.current_host, filename_without_extension))\r\n",
      "\r\n",
      "    df_test_embeddings = file_based_convert_examples_to_features(test_InputExamples, LABEL_VALUES, MAX_SEQ_LENGTH, tokenizer, '{}/part-{}-{}.tfrecord'.format(test_data, args.current_host, filename_without_extension))\r\n",
      "        \r\n",
      "    \r\n",
      "def process(args):\r\n",
      "    print('Current host: {}'.format(args.current_host))\r\n",
      "    \r\n",
      "    train_data = None\r\n",
      "    validation_data = None\r\n",
      "    test_data = None\r\n",
      "\r\n",
      "    transform_tsv_to_tfrecord = functools.partial(_transform_tsv_to_tfrecord)\r\n",
      "    input_files = glob.glob('{}/*.tsv.gz'.format(args.input_data))\r\n",
      "\r\n",
      "    num_cpus = multiprocessing.cpu_count()\r\n",
      "    print('num_cpus {}'.format(num_cpus))\r\n",
      "\r\n",
      "    p = multiprocessing.Pool(num_cpus)\r\n",
      "    p.map(transform_tsv_to_tfrecord, input_files)\r\n",
      "\r\n",
      "    print('Listing contents of {}'.format(args.output_data))\r\n",
      "    dirs_output = os.listdir(args.output_data)\r\n",
      "    for file in dirs_output:\r\n",
      "        print(file)\r\n",
      "\r\n",
      "    print('Listing contents of {}'.format(train_data))\r\n",
      "    dirs_output = os.listdir(train_data)\r\n",
      "    for file in dirs_output:\r\n",
      "        print(file)\r\n",
      "\r\n",
      "    print('Listing contents of {}'.format(validation_data))\r\n",
      "    dirs_output = os.listdir(validation_data)\r\n",
      "    for file in dirs_output:\r\n",
      "        print(file)\r\n",
      "\r\n",
      "    print('Listing contents of {}'.format(test_data))\r\n",
      "    dirs_output = os.listdir(test_data)\r\n",
      "    for file in dirs_output:\r\n",
      "        print(file)\r\n",
      "\r\n",
      "    print('Complete')\r\n",
      "    \r\n",
      "    \r\n",
      "if __name__ == \"__main__\":\r\n",
      "    args = parse_args()\r\n",
      "    print('Loaded arguments:')\r\n",
      "    print(args)\r\n",
      "    \r\n",
      "    print('Environment variables:')\r\n",
      "    print(os.environ)\r\n",
      "\r\n",
      "    process(args)    \r\n"
     ]
    }
   ],
   "source": [
    "cat preprocess-scikit-text-to-bert.py"
   ]
  },
  {
   "cell_type": "markdown",
   "metadata": {},
   "source": [
    "Run this script as a processing job.  You also need to specify one `ProcessingInput` with the `source` argument of the Amazon S3 bucket and `destination` is where the script reads this data from `/opt/ml/processing/input` (inside the Docker container.)  All local paths inside the processing container must begin with `/opt/ml/processing/`.\n",
    "\n",
    "Also give the `run()` method a `ProcessingOutput`, where the `source` is the path the script writes output data to.  For outputs, the `destination` defaults to an S3 bucket that the Amazon SageMaker Python SDK creates for you, following the format `s3://sagemaker-<region>-<account_id>/<processing_job_name>/output/<output_name>/`.  You also give the `ProcessingOutput` value for `output_name`, to make it easier to retrieve these output artifacts after the job is run.\n",
    "\n",
    "The arguments parameter in the `run()` method are command-line arguments in our `preprocess-scikit-text-to-bert.py` script.\n",
    "\n",
    "Note that we sharding the data using `ShardedS3Key` to spread the transformations across all worker nodes in the cluster."
   ]
  },
  {
   "cell_type": "code",
   "execution_count": 5,
   "metadata": {},
   "outputs": [],
   "source": [
    "from sagemaker.sklearn.processing import SKLearnProcessor\n",
    "from sagemaker.processing import ProcessingInput, ProcessingOutput\n",
    "\n",
    "processor = SKLearnProcessor(framework_version='0.20.0',\n",
    "                             role=role,\n",
    "                             instance_type='ml.c5.4xlarge',\n",
    "                             instance_count=2)"
   ]
  },
  {
   "cell_type": "code",
   "execution_count": 6,
   "metadata": {
    "scrolled": true
   },
   "outputs": [
    {
     "name": "stdout",
     "output_type": "stream",
     "text": [
      "\n",
      "Job Name:  sagemaker-scikit-learn-2020-04-25-18-17-26-390\n",
      "Inputs:  [{'InputName': 'input-1', 'S3Input': {'S3Uri': 's3://sagemaker-us-west-2-086401037028/amazon-reviews-pds/tsv/', 'LocalPath': '/opt/ml/processing/input/data/', 'S3DataType': 'S3Prefix', 'S3InputMode': 'File', 'S3DataDistributionType': 'ShardedByS3Key', 'S3CompressionType': 'None'}}, {'InputName': 'code', 'S3Input': {'S3Uri': 's3://sagemaker-us-west-2-086401037028/sagemaker-scikit-learn-2020-04-25-18-17-26-390/input/code/preprocess-scikit-text-to-bert.py', 'LocalPath': '/opt/ml/processing/input/code', 'S3DataType': 'S3Prefix', 'S3InputMode': 'File', 'S3DataDistributionType': 'FullyReplicated', 'S3CompressionType': 'None'}}]\n",
      "Outputs:  [{'OutputName': 'bert-train', 'S3Output': {'S3Uri': 's3://sagemaker-us-west-2-086401037028/sagemaker-scikit-learn-2020-04-25-18-17-26-390/output/bert-train', 'LocalPath': '/opt/ml/processing/output/bert/train', 'S3UploadMode': 'EndOfJob'}}, {'OutputName': 'bert-validation', 'S3Output': {'S3Uri': 's3://sagemaker-us-west-2-086401037028/sagemaker-scikit-learn-2020-04-25-18-17-26-390/output/bert-validation', 'LocalPath': '/opt/ml/processing/output/bert/validation', 'S3UploadMode': 'EndOfJob'}}, {'OutputName': 'bert-test', 'S3Output': {'S3Uri': 's3://sagemaker-us-west-2-086401037028/sagemaker-scikit-learn-2020-04-25-18-17-26-390/output/bert-test', 'LocalPath': '/opt/ml/processing/output/bert/test', 'S3UploadMode': 'EndOfJob'}}]\n"
     ]
    }
   ],
   "source": [
    "processor.run(code='preprocess-scikit-text-to-bert.py',\n",
    "                      inputs=[ProcessingInput(source=s3_input_data,\n",
    "                                              destination='/opt/ml/processing/input/data/',\n",
    "                                              s3_data_distribution_type='ShardedByS3Key')],\n",
    "                      outputs=[\n",
    "                               ProcessingOutput(s3_upload_mode='EndOfJob',\n",
    "                                                output_name='bert-train',\n",
    "                                                source='/opt/ml/processing/output/bert/train'),\n",
    "                               ProcessingOutput(s3_upload_mode='EndOfJob',\n",
    "                                                output_name='bert-validation',\n",
    "                                                source='/opt/ml/processing/output/bert/validation'),\n",
    "                               ProcessingOutput(s3_upload_mode='EndOfJob',\n",
    "                                                output_name='bert-test',\n",
    "                                                source='/opt/ml/processing/output/bert/test'),\n",
    "                      ],\n",
    "                      logs=True,\n",
    "                      wait=False)\n"
   ]
  },
  {
   "cell_type": "code",
   "execution_count": 7,
   "metadata": {},
   "outputs": [
    {
     "name": "stdout",
     "output_type": "stream",
     "text": [
      "sagemaker-scikit-learn-2020-04-25-18-17-26-390\n"
     ]
    }
   ],
   "source": [
    "scikit_processing_job_name = processor.jobs[-1].describe()['ProcessingJobName']\n",
    "print(scikit_processing_job_name)"
   ]
  },
  {
   "cell_type": "code",
   "execution_count": 8,
   "metadata": {},
   "outputs": [
    {
     "data": {
      "text/html": [
       "<b>Review <a href=\"https://console.aws.amazon.com/cloudwatch/home?region=us-west-2#logStream:group=/aws/sagemaker/ProcessingJobs;prefix=sagemaker-scikit-learn-2020-04-25-18-17-26-390;streamFilter=typeLogStreamPrefix\">CloudWatch Logs</a> After About 5 Minutes</b>"
      ],
      "text/plain": [
       "<IPython.core.display.HTML object>"
      ]
     },
     "metadata": {},
     "output_type": "display_data"
    }
   ],
   "source": [
    "from IPython.core.display import display, HTML\n",
    "\n",
    "display(HTML('<b>Review <a href=\"https://console.aws.amazon.com/cloudwatch/home?region={}#logStream:group=/aws/sagemaker/ProcessingJobs;prefix={};streamFilter=typeLogStreamPrefix\">CloudWatch Logs</a> After About 5 Minutes</b>'.format(region, scikit_processing_job_name)))\n"
   ]
  },
  {
   "cell_type": "code",
   "execution_count": 9,
   "metadata": {},
   "outputs": [
    {
     "data": {
      "text/html": [
       "<b>Review <a href=\"https://s3.console.aws.amazon.com/s3/buckets/sagemaker-us-west-2-086401037028/sagemaker-scikit-learn-2020-04-25-18-17-26-390/?region=us-west-2&tab=overview\">S3 Output Data</a> After The Spark Job Has Completed</b>"
      ],
      "text/plain": [
       "<IPython.core.display.HTML object>"
      ]
     },
     "metadata": {},
     "output_type": "display_data"
    }
   ],
   "source": [
    "from IPython.core.display import display, HTML\n",
    "\n",
    "display(HTML('<b>Review <a href=\"https://s3.console.aws.amazon.com/s3/buckets/{}/{}/?region={}&tab=overview\">S3 Output Data</a> After The Spark Job Has Completed</b>'.format(bucket, scikit_processing_job_name, region)))\n"
   ]
  },
  {
   "cell_type": "markdown",
   "metadata": {},
   "source": [
    "# Please Wait Until the Processing Job Completes\n",
    "Re-run this next cell until the job status shows `Completed`."
   ]
  },
  {
   "cell_type": "code",
   "execution_count": 10,
   "metadata": {
    "scrolled": false
   },
   "outputs": [
    {
     "name": "stdout",
     "output_type": "stream",
     "text": [
      "\n",
      "\n",
      "InProgress\n",
      "\n",
      "\n",
      "{'ProcessingInputs': [{'InputName': 'input-1', 'S3Input': {'S3Uri': 's3://sagemaker-us-west-2-086401037028/amazon-reviews-pds/tsv/', 'LocalPath': '/opt/ml/processing/input/data/', 'S3DataType': 'S3Prefix', 'S3InputMode': 'File', 'S3DataDistributionType': 'ShardedByS3Key', 'S3CompressionType': 'None'}}, {'InputName': 'code', 'S3Input': {'S3Uri': 's3://sagemaker-us-west-2-086401037028/sagemaker-scikit-learn-2020-04-25-18-17-26-390/input/code/preprocess-scikit-text-to-bert.py', 'LocalPath': '/opt/ml/processing/input/code', 'S3DataType': 'S3Prefix', 'S3InputMode': 'File', 'S3DataDistributionType': 'FullyReplicated', 'S3CompressionType': 'None'}}], 'ProcessingOutputConfig': {'Outputs': [{'OutputName': 'bert-train', 'S3Output': {'S3Uri': 's3://sagemaker-us-west-2-086401037028/sagemaker-scikit-learn-2020-04-25-18-17-26-390/output/bert-train', 'LocalPath': '/opt/ml/processing/output/bert/train', 'S3UploadMode': 'EndOfJob'}}, {'OutputName': 'bert-validation', 'S3Output': {'S3Uri': 's3://sagemaker-us-west-2-086401037028/sagemaker-scikit-learn-2020-04-25-18-17-26-390/output/bert-validation', 'LocalPath': '/opt/ml/processing/output/bert/validation', 'S3UploadMode': 'EndOfJob'}}, {'OutputName': 'bert-test', 'S3Output': {'S3Uri': 's3://sagemaker-us-west-2-086401037028/sagemaker-scikit-learn-2020-04-25-18-17-26-390/output/bert-test', 'LocalPath': '/opt/ml/processing/output/bert/test', 'S3UploadMode': 'EndOfJob'}}]}, 'ProcessingJobName': 'sagemaker-scikit-learn-2020-04-25-18-17-26-390', 'ProcessingResources': {'ClusterConfig': {'InstanceCount': 2, 'InstanceType': 'ml.c5.4xlarge', 'VolumeSizeInGB': 30}}, 'StoppingCondition': {'MaxRuntimeInSeconds': 86400}, 'AppSpecification': {'ImageUri': '246618743249.dkr.ecr.us-west-2.amazonaws.com/sagemaker-scikit-learn:0.20.0-cpu-py3', 'ContainerEntrypoint': ['python3', '/opt/ml/processing/input/code/preprocess-scikit-text-to-bert.py']}, 'RoleArn': 'arn:aws:iam::086401037028:role/TeamRole', 'ProcessingJobArn': 'arn:aws:sagemaker:us-west-2:086401037028:processing-job/sagemaker-scikit-learn-2020-04-25-18-17-26-390', 'ProcessingJobStatus': 'InProgress', 'LastModifiedTime': datetime.datetime(2020, 4, 25, 18, 17, 26, 729000, tzinfo=tzlocal()), 'CreationTime': datetime.datetime(2020, 4, 25, 18, 17, 26, 729000, tzinfo=tzlocal()), 'ResponseMetadata': {'RequestId': '58a68e15-794c-43a9-ac60-b289a0f04994', 'HTTPStatusCode': 200, 'HTTPHeaders': {'x-amzn-requestid': '58a68e15-794c-43a9-ac60-b289a0f04994', 'content-type': 'application/x-amz-json-1.1', 'content-length': '2091', 'date': 'Sat, 25 Apr 2020 18:17:26 GMT'}, 'RetryAttempts': 0}}\n"
     ]
    }
   ],
   "source": [
    "running_processor = sagemaker.processing.ProcessingJob.from_processing_name(processing_job_name=scikit_processing_job_name,\n",
    "                                                                            sagemaker_session=sagemaker_session)\n",
    "\n",
    "processing_job_description = running_processor.describe()\n",
    "\n",
    "processing_job_status = processing_job_description['ProcessingJobStatus']\n",
    "print('\\n')\n",
    "print(processing_job_status)\n",
    "print('\\n')\n",
    "\n",
    "print(processing_job_description)"
   ]
  },
  {
   "cell_type": "markdown",
   "metadata": {},
   "source": [
    "# _Please Wait Until the Job Completes with Job Status ^^ `Completed` ^^._"
   ]
  },
  {
   "cell_type": "markdown",
   "metadata": {},
   "source": [
    "# Inspect the Processed Output Data\n",
    "\n",
    "Take a look at a few rows of the transformed dataset to make sure the processing was successful."
   ]
  },
  {
   "cell_type": "code",
   "execution_count": 11,
   "metadata": {
    "scrolled": true
   },
   "outputs": [
    {
     "name": "stdout",
     "output_type": "stream",
     "text": [
      "s3://sagemaker-us-west-2-086401037028/sagemaker-scikit-learn-2020-04-25-18-17-26-390/output/bert-train\n",
      "s3://sagemaker-us-west-2-086401037028/sagemaker-scikit-learn-2020-04-25-18-17-26-390/output/bert-validation\n",
      "s3://sagemaker-us-west-2-086401037028/sagemaker-scikit-learn-2020-04-25-18-17-26-390/output/bert-test\n"
     ]
    }
   ],
   "source": [
    "output_config = processing_job_description['ProcessingOutputConfig']\n",
    "for output in output_config['Outputs']:\n",
    "    if output['OutputName'] == 'bert-train':\n",
    "        processed_train_data = output['S3Output']['S3Uri']\n",
    "    if output['OutputName'] == 'bert-validation':\n",
    "        processed_validation_data = output['S3Output']['S3Uri']        \n",
    "    if output['OutputName'] == 'bert-test':\n",
    "        processed_test_data = output['S3Output']['S3Uri']\n",
    "        \n",
    "print(processed_train_data)\n",
    "print(processed_validation_data)\n",
    "print(processed_test_data)"
   ]
  },
  {
   "cell_type": "code",
   "execution_count": 12,
   "metadata": {},
   "outputs": [],
   "source": [
    "!aws s3 ls $processed_train_data/"
   ]
  },
  {
   "cell_type": "code",
   "execution_count": 13,
   "metadata": {},
   "outputs": [],
   "source": [
    "!aws s3 ls $processed_validation_data/"
   ]
  },
  {
   "cell_type": "code",
   "execution_count": 14,
   "metadata": {},
   "outputs": [],
   "source": [
    "!aws s3 ls $processed_test_data/"
   ]
  },
  {
   "cell_type": "markdown",
   "metadata": {},
   "source": [
    "# Pass `scikit_processing_job_name` to the next notebook"
   ]
  },
  {
   "cell_type": "code",
   "execution_count": 15,
   "metadata": {},
   "outputs": [
    {
     "name": "stdout",
     "output_type": "stream",
     "text": [
      "sagemaker-scikit-learn-2020-04-25-18-17-26-390\n"
     ]
    }
   ],
   "source": [
    "print(scikit_processing_job_name)"
   ]
  },
  {
   "cell_type": "code",
   "execution_count": 16,
   "metadata": {},
   "outputs": [
    {
     "name": "stdout",
     "output_type": "stream",
     "text": [
      "Stored 'scikit_processing_job_name' (str)\n"
     ]
    }
   ],
   "source": [
    "%store scikit_processing_job_name"
   ]
  },
  {
   "cell_type": "code",
   "execution_count": null,
   "metadata": {},
   "outputs": [],
   "source": []
  }
 ],
 "metadata": {
  "kernelspec": {
   "display_name": "conda_python3",
   "language": "python",
   "name": "conda_python3"
  },
  "language_info": {
   "codemirror_mode": {
    "name": "ipython",
    "version": 3
   },
   "file_extension": ".py",
   "mimetype": "text/x-python",
   "name": "python",
   "nbconvert_exporter": "python",
   "pygments_lexer": "ipython3",
   "version": "3.6.5"
  }
 },
 "nbformat": 4,
 "nbformat_minor": 4
}

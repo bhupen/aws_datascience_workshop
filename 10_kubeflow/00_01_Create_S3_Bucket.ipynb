{
 "cells": [
  {
   "cell_type": "markdown",
   "metadata": {},
   "source": [
    "# 1. Create S3 Bucket (If Not Already Created)\n"
   ]
  },
  {
   "cell_type": "code",
   "execution_count": 1,
   "metadata": {},
   "outputs": [
    {
     "name": "stdout",
     "output_type": "stream",
     "text": [
      "export S3_BUCKET=sagemaker-us-west-2-086401037028\n",
      "                           PRE amazon-reviews-pds/\n",
      "                           PRE amazon-reviews-spark-analyzer-2020-04-25-18-10-34/\n",
      "                           PRE amazon-reviews-spark-processor-2020-04-25-18-18-29/\n",
      "                           PRE athena/\n",
      "                           PRE data/\n",
      "                           PRE models/\n",
      "                           PRE sagemaker-scikit-learn-2020-04-25-18-17-26-390/\n",
      "                           PRE spark-amazon-reviews-analyzer-2020-04-25-18-10-34-581/\n",
      "                           PRE spark-amazon-reviews-processor-2020-04-25-18-18-29-763/\n",
      "                           PRE tensorflow-training-200425-1947-001-fa5141c7/\n",
      "                           PRE tensorflow-training-2020-04-25-18-34-53-740/\n",
      "                           PRE tensorflow-training-2020-04-25-19-47-23-492/\n",
      "                           PRE tensorflow-training-2020-04-25-19-56-12-061/\n",
      "                           PRE tensorflow-training-2020-04-25-20-00-19-392/\n",
      "                           PRE tensorflow-training-2020-04-25-20-00-26-997/\n",
      "                           PRE tensorflow-training-2020-04-25-20-03-06-495/\n",
      "                           PRE tensorflow-training-2020-04-25-20-33-19-547/\n",
      "Completed\n"
     ]
    }
   ],
   "source": [
    "%%bash\n",
    "\n",
    "export S3_BUCKET=sagemaker-$(aws configure get region)-$(aws sts get-caller-identity | jq -r '.Account')\n",
    "echo \"export S3_BUCKET=${S3_BUCKET}\" | tee -a ~/.bash_profile\n",
    "\n",
    "# Create a new S3 bucket and upload the dataset. \n",
    "aws s3 ls s3://$S3_BUCKET || aws s3 mb s3://${S3_BUCKET}\n",
    "\n",
    "echo \"Completed\"\n"
   ]
  },
  {
   "cell_type": "markdown",
   "metadata": {},
   "source": [
    "# 2. Verify S3_BUCKET Env Variable"
   ]
  },
  {
   "cell_type": "code",
   "execution_count": 2,
   "metadata": {},
   "outputs": [
    {
     "name": "stdout",
     "output_type": "stream",
     "text": [
      "sagemaker-us-west-2-086401037028\n"
     ]
    }
   ],
   "source": [
    "%%bash\n",
    "\n",
    "source ~/.bash_profile\n",
    "\n",
    "echo \"${S3_BUCKET}\"\n"
   ]
  },
  {
   "cell_type": "markdown",
   "metadata": {},
   "source": [
    "# 3. Verify S3_BUCKET Bucket Creation"
   ]
  },
  {
   "cell_type": "code",
   "execution_count": 3,
   "metadata": {},
   "outputs": [
    {
     "name": "stdout",
     "output_type": "stream",
     "text": [
      "                           PRE amazon-reviews-pds/\n",
      "                           PRE amazon-reviews-spark-analyzer-2020-04-25-18-10-34/\n",
      "                           PRE amazon-reviews-spark-processor-2020-04-25-18-18-29/\n",
      "                           PRE athena/\n",
      "                           PRE data/\n",
      "                           PRE models/\n",
      "                           PRE sagemaker-scikit-learn-2020-04-25-18-17-26-390/\n",
      "                           PRE spark-amazon-reviews-analyzer-2020-04-25-18-10-34-581/\n",
      "                           PRE spark-amazon-reviews-processor-2020-04-25-18-18-29-763/\n",
      "                           PRE tensorflow-training-200425-1947-001-fa5141c7/\n",
      "                           PRE tensorflow-training-2020-04-25-18-34-53-740/\n",
      "                           PRE tensorflow-training-2020-04-25-19-47-23-492/\n",
      "                           PRE tensorflow-training-2020-04-25-19-56-12-061/\n",
      "                           PRE tensorflow-training-2020-04-25-20-00-19-392/\n",
      "                           PRE tensorflow-training-2020-04-25-20-00-26-997/\n",
      "                           PRE tensorflow-training-2020-04-25-20-03-06-495/\n",
      "                           PRE tensorflow-training-2020-04-25-20-33-19-547/\n"
     ]
    }
   ],
   "source": [
    "%%bash\n",
    "\n",
    "source ~/.bash_profile\n",
    "\n",
    "aws s3 ls s3://${S3_BUCKET}\n"
   ]
  },
  {
   "cell_type": "code",
   "execution_count": null,
   "metadata": {},
   "outputs": [],
   "source": []
  }
 ],
 "metadata": {
  "kernelspec": {
   "display_name": "conda_python3",
   "language": "python",
   "name": "conda_python3"
  },
  "language_info": {
   "codemirror_mode": {
    "name": "ipython",
    "version": 3
   },
   "file_extension": ".py",
   "mimetype": "text/x-python",
   "name": "python",
   "nbconvert_exporter": "python",
   "pygments_lexer": "ipython3",
   "version": "3.6.5"
  }
 },
 "nbformat": 4,
 "nbformat_minor": 4
}

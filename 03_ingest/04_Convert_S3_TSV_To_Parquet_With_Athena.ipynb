{
 "cells": [
  {
   "cell_type": "markdown",
   "metadata": {},
   "source": [
    "# Amazon Athena - Convert TSV Data To Parquet"
   ]
  },
  {
   "cell_type": "markdown",
   "metadata": {},
   "source": [
    "In this notebook, we will show you how you can easily convert that data now into Apache Parquet file format."
   ]
  },
  {
   "cell_type": "markdown",
   "metadata": {},
   "source": [
    "<img src=\"img/c3-08.png\" width=\"90%\" align=\"left\">"
   ]
  },
  {
   "cell_type": "code",
   "execution_count": 1,
   "metadata": {},
   "outputs": [],
   "source": [
    "import boto3\n",
    "import sagemaker\n",
    "\n",
    "# Get region \n",
    "session = boto3.session.Session()\n",
    "region_name = session.region_name\n",
    "\n",
    "# Get SageMaker session & default S3 bucket\n",
    "sagemaker_session = sagemaker.Session()\n",
    "bucket = sagemaker_session.default_bucket()\n",
    "\n",
    "# Set S3 prefixes\n",
    "parquet_prefix = 'amazon-reviews-pds/parquet'\n",
    "\n",
    "# Set S3 path to Parquet data\n",
    "s3_path_parquet = 's3://{}/{}'.format(bucket, parquet_prefix)\n",
    "\n",
    "# Set Athena parameters\n",
    "database_name = 'dsoaws'\n",
    "table_name_tsv = 'amazon_reviews_tsv'\n",
    "table_name_parquet = 'amazon_reviews_parquet'"
   ]
  },
  {
   "cell_type": "markdown",
   "metadata": {},
   "source": [
    "### Install PyAthena"
   ]
  },
  {
   "cell_type": "code",
   "execution_count": 2,
   "metadata": {},
   "outputs": [],
   "source": [
    "!pip install -q PyAthena==1.8.0"
   ]
  },
  {
   "cell_type": "code",
   "execution_count": 3,
   "metadata": {},
   "outputs": [],
   "source": [
    "from pyathena import connect\n",
    "from pyathena.pandas_cursor import PandasCursor\n",
    "from pyathena.util import as_pandas"
   ]
  },
  {
   "cell_type": "markdown",
   "metadata": {},
   "source": [
    "### Create Parquet Files from TSV Table\n",
    "\n",
    "As you can see from the query below, we’re also adding a new `year` column to our dataset by converting the `review_date` string to a date format, and then cast the year out of the date. Let’s store the year value as an integer. And let's partition the Parquet data by `Product Category`."
   ]
  },
  {
   "cell_type": "code",
   "execution_count": 4,
   "metadata": {},
   "outputs": [],
   "source": [
    "# Set S3 staging directory -- this is a temporary directory used for Athena queries\n",
    "s3_staging_dir = 's3://{0}/athena/staging'.format(bucket)"
   ]
  },
  {
   "cell_type": "code",
   "execution_count": 5,
   "metadata": {
    "scrolled": true
   },
   "outputs": [
    {
     "name": "stdout",
     "output_type": "stream",
     "text": [
      "CREATE TABLE IF NOT EXISTS dsoaws.amazon_reviews_parquet\n",
      "WITH (format = 'PARQUET', external_location = 's3://sagemaker-us-west-2-086401037028/amazon-reviews-pds/parquet', partitioned_by = ARRAY['product_category']) AS\n",
      "SELECT marketplace,\n",
      "         customer_id,\n",
      "         review_id,\n",
      "         product_id,\n",
      "         product_parent,\n",
      "         product_title,\n",
      "         star_rating,\n",
      "         helpful_votes,\n",
      "         total_votes,\n",
      "         vine,\n",
      "         verified_purchase,\n",
      "         review_headline,\n",
      "         review_body,\n",
      "         CAST(YEAR(DATE(review_date)) AS INTEGER) AS year,\n",
      "         DATE(review_date) AS review_date,\n",
      "         product_category\n",
      "FROM dsoaws.amazon_reviews_tsv\n"
     ]
    }
   ],
   "source": [
    "# SQL statement to execute\n",
    "statement = \"\"\"CREATE TABLE IF NOT EXISTS {}.{}\n",
    "WITH (format = 'PARQUET', external_location = '{}', partitioned_by = ARRAY['product_category']) AS\n",
    "SELECT marketplace,\n",
    "         customer_id,\n",
    "         review_id,\n",
    "         product_id,\n",
    "         product_parent,\n",
    "         product_title,\n",
    "         star_rating,\n",
    "         helpful_votes,\n",
    "         total_votes,\n",
    "         vine,\n",
    "         verified_purchase,\n",
    "         review_headline,\n",
    "         review_body,\n",
    "         CAST(YEAR(DATE(review_date)) AS INTEGER) AS year,\n",
    "         DATE(review_date) AS review_date,\n",
    "         product_category\n",
    "FROM {}.{}\"\"\".format(database_name, table_name_parquet, s3_path_parquet, database_name, table_name_tsv)\n",
    "\n",
    "print(statement)"
   ]
  },
  {
   "cell_type": "markdown",
   "metadata": {},
   "source": [
    "### Execute statement using connection cursor\n",
    "This can take a few minutes.  Please be patient."
   ]
  },
  {
   "cell_type": "code",
   "execution_count": 6,
   "metadata": {},
   "outputs": [
    {
     "data": {
      "text/plain": [
       "<pyathena.cursor.Cursor at 0x7f4d5467bd68>"
      ]
     },
     "execution_count": 6,
     "metadata": {},
     "output_type": "execute_result"
    }
   ],
   "source": [
    "cursor = connect(region_name=region_name, s3_staging_dir=s3_staging_dir).cursor()\n",
    "cursor.execute(statement)"
   ]
  },
  {
   "cell_type": "markdown",
   "metadata": {},
   "source": [
    "### Load partitions by running `MSCK REPAIR TABLE`"
   ]
  },
  {
   "cell_type": "markdown",
   "metadata": {},
   "source": [
    "As a last step, we need to load the Parquet partitions. To do so, just issue the following SQL command: "
   ]
  },
  {
   "cell_type": "code",
   "execution_count": 7,
   "metadata": {},
   "outputs": [
    {
     "name": "stdout",
     "output_type": "stream",
     "text": [
      "MSCK REPAIR TABLE dsoaws.amazon_reviews_parquet\n"
     ]
    }
   ],
   "source": [
    "statement = 'MSCK REPAIR TABLE {}.{}'.format(database_name, table_name_parquet)\n",
    "\n",
    "print(statement)"
   ]
  },
  {
   "cell_type": "code",
   "execution_count": 8,
   "metadata": {},
   "outputs": [
    {
     "data": {
      "text/plain": [
       "<pyathena.cursor.Cursor at 0x7f4d5439dda0>"
      ]
     },
     "execution_count": 8,
     "metadata": {},
     "output_type": "execute_result"
    }
   ],
   "source": [
    "cursor = connect(region_name=region_name, s3_staging_dir=s3_staging_dir).cursor()\n",
    "cursor.execute(statement)"
   ]
  },
  {
   "cell_type": "markdown",
   "metadata": {},
   "source": [
    "### Show the partitions"
   ]
  },
  {
   "cell_type": "code",
   "execution_count": 9,
   "metadata": {},
   "outputs": [
    {
     "name": "stdout",
     "output_type": "stream",
     "text": [
      "SHOW PARTITIONS dsoaws.amazon_reviews_parquet\n"
     ]
    }
   ],
   "source": [
    "statement = 'SHOW PARTITIONS {}.{}'.format(database_name, table_name_parquet)\n",
    "\n",
    "print(statement)"
   ]
  },
  {
   "cell_type": "code",
   "execution_count": 10,
   "metadata": {},
   "outputs": [
    {
     "data": {
      "text/html": [
       "<div>\n",
       "<style scoped>\n",
       "    .dataframe tbody tr th:only-of-type {\n",
       "        vertical-align: middle;\n",
       "    }\n",
       "\n",
       "    .dataframe tbody tr th {\n",
       "        vertical-align: top;\n",
       "    }\n",
       "\n",
       "    .dataframe thead th {\n",
       "        text-align: right;\n",
       "    }\n",
       "</style>\n",
       "<table border=\"1\" class=\"dataframe\">\n",
       "  <thead>\n",
       "    <tr style=\"text-align: right;\">\n",
       "      <th></th>\n",
       "      <th>partition</th>\n",
       "    </tr>\n",
       "  </thead>\n",
       "  <tbody>\n",
       "    <tr>\n",
       "      <th>0</th>\n",
       "      <td>product_category=Digital_Video_Games</td>\n",
       "    </tr>\n",
       "    <tr>\n",
       "      <th>1</th>\n",
       "      <td>product_category=Digital_Software</td>\n",
       "    </tr>\n",
       "  </tbody>\n",
       "</table>\n",
       "</div>"
      ],
      "text/plain": [
       "                              partition\n",
       "0  product_category=Digital_Video_Games\n",
       "1     product_category=Digital_Software"
      ]
     },
     "execution_count": 10,
     "metadata": {},
     "output_type": "execute_result"
    }
   ],
   "source": [
    "cursor = connect(region_name=region_name, s3_staging_dir=s3_staging_dir).cursor()\n",
    "cursor.execute(statement)\n",
    "\n",
    "df_partitions = as_pandas(cursor)\n",
    "df_partitions.head(5)"
   ]
  },
  {
   "cell_type": "markdown",
   "metadata": {},
   "source": [
    "### Run a sample query"
   ]
  },
  {
   "cell_type": "code",
   "execution_count": 11,
   "metadata": {},
   "outputs": [
    {
     "name": "stdout",
     "output_type": "stream",
     "text": [
      "SELECT * FROM dsoaws.amazon_reviews_parquet\n",
      "    WHERE product_category = 'Digital_Software' LIMIT 100\n"
     ]
    }
   ],
   "source": [
    "product_category = 'Digital_Software'\n",
    "\n",
    "statement = \"\"\"SELECT * FROM {}.{}\n",
    "    WHERE product_category = '{}' LIMIT 100\"\"\".format(database_name, table_name_parquet, product_category)\n",
    "\n",
    "print(statement)"
   ]
  },
  {
   "cell_type": "code",
   "execution_count": 12,
   "metadata": {},
   "outputs": [
    {
     "data": {
      "text/html": [
       "<div>\n",
       "<style scoped>\n",
       "    .dataframe tbody tr th:only-of-type {\n",
       "        vertical-align: middle;\n",
       "    }\n",
       "\n",
       "    .dataframe tbody tr th {\n",
       "        vertical-align: top;\n",
       "    }\n",
       "\n",
       "    .dataframe thead th {\n",
       "        text-align: right;\n",
       "    }\n",
       "</style>\n",
       "<table border=\"1\" class=\"dataframe\">\n",
       "  <thead>\n",
       "    <tr style=\"text-align: right;\">\n",
       "      <th></th>\n",
       "      <th>marketplace</th>\n",
       "      <th>customer_id</th>\n",
       "      <th>review_id</th>\n",
       "      <th>product_id</th>\n",
       "      <th>product_parent</th>\n",
       "      <th>product_title</th>\n",
       "      <th>star_rating</th>\n",
       "      <th>helpful_votes</th>\n",
       "      <th>total_votes</th>\n",
       "      <th>vine</th>\n",
       "      <th>verified_purchase</th>\n",
       "      <th>review_headline</th>\n",
       "      <th>review_body</th>\n",
       "      <th>year</th>\n",
       "      <th>review_date</th>\n",
       "      <th>product_category</th>\n",
       "    </tr>\n",
       "  </thead>\n",
       "  <tbody>\n",
       "    <tr>\n",
       "      <th>0</th>\n",
       "      <td>US</td>\n",
       "      <td>28523887</td>\n",
       "      <td>R2VX79GL883MWQ</td>\n",
       "      <td>B003O0NP5K</td>\n",
       "      <td>825510099</td>\n",
       "      <td>Serif Digital Scrapbook Artist 2 [Download]</td>\n",
       "      <td>2</td>\n",
       "      <td>0</td>\n",
       "      <td>0</td>\n",
       "      <td>N</td>\n",
       "      <td>Y</td>\n",
       "      <td>Okay</td>\n",
       "      <td>It is okay except you have to buy packages to ...</td>\n",
       "      <td>2012</td>\n",
       "      <td>2012-09-06</td>\n",
       "      <td>Digital_Software</td>\n",
       "    </tr>\n",
       "    <tr>\n",
       "      <th>1</th>\n",
       "      <td>US</td>\n",
       "      <td>21801173</td>\n",
       "      <td>R3OYNS18EJ1OMZ</td>\n",
       "      <td>B0060C3AG8</td>\n",
       "      <td>376527096</td>\n",
       "      <td>Norton Antivirus 2012 - 1 User</td>\n",
       "      <td>5</td>\n",
       "      <td>0</td>\n",
       "      <td>0</td>\n",
       "      <td>N</td>\n",
       "      <td>Y</td>\n",
       "      <td>Easy, just look for the small text</td>\n",
       "      <td>It wasn't hard to download and install. The li...</td>\n",
       "      <td>2012</td>\n",
       "      <td>2012-09-06</td>\n",
       "      <td>Digital_Software</td>\n",
       "    </tr>\n",
       "    <tr>\n",
       "      <th>2</th>\n",
       "      <td>US</td>\n",
       "      <td>51044431</td>\n",
       "      <td>R1JDRTB2FTURYB</td>\n",
       "      <td>B002UTJGJK</td>\n",
       "      <td>589528089</td>\n",
       "      <td>Math- Algebra II [Download]</td>\n",
       "      <td>1</td>\n",
       "      <td>3</td>\n",
       "      <td>4</td>\n",
       "      <td>N</td>\n",
       "      <td>Y</td>\n",
       "      <td>The powerpoint that doesn't pause</td>\n",
       "      <td>This product sucks donkey bowls.&lt;br /&gt;Basicall...</td>\n",
       "      <td>2012</td>\n",
       "      <td>2012-09-06</td>\n",
       "      <td>Digital_Software</td>\n",
       "    </tr>\n",
       "    <tr>\n",
       "      <th>3</th>\n",
       "      <td>US</td>\n",
       "      <td>48300730</td>\n",
       "      <td>R11547UUVBLNSJ</td>\n",
       "      <td>B003O0NP5K</td>\n",
       "      <td>825510099</td>\n",
       "      <td>Serif Digital Scrapbook Artist 2 [Download]</td>\n",
       "      <td>1</td>\n",
       "      <td>3</td>\n",
       "      <td>4</td>\n",
       "      <td>N</td>\n",
       "      <td>N</td>\n",
       "      <td>Do not buy Serif Software</td>\n",
       "      <td>I have purchased several Serif software produc...</td>\n",
       "      <td>2012</td>\n",
       "      <td>2012-09-06</td>\n",
       "      <td>Digital_Software</td>\n",
       "    </tr>\n",
       "    <tr>\n",
       "      <th>4</th>\n",
       "      <td>US</td>\n",
       "      <td>13159702</td>\n",
       "      <td>R28CVQRLMLOHNK</td>\n",
       "      <td>B005O24FG4</td>\n",
       "      <td>663353957</td>\n",
       "      <td>Microsoft Access 2010 (2 PC / 1 User) [OLD VER...</td>\n",
       "      <td>2</td>\n",
       "      <td>4</td>\n",
       "      <td>4</td>\n",
       "      <td>N</td>\n",
       "      <td>Y</td>\n",
       "      <td>What's new?</td>\n",
       "      <td>I don't know why Microsoft continues to change...</td>\n",
       "      <td>2012</td>\n",
       "      <td>2012-09-06</td>\n",
       "      <td>Digital_Software</td>\n",
       "    </tr>\n",
       "  </tbody>\n",
       "</table>\n",
       "</div>"
      ],
      "text/plain": [
       "  marketplace customer_id       review_id  product_id product_parent  \\\n",
       "0          US    28523887  R2VX79GL883MWQ  B003O0NP5K      825510099   \n",
       "1          US    21801173  R3OYNS18EJ1OMZ  B0060C3AG8      376527096   \n",
       "2          US    51044431  R1JDRTB2FTURYB  B002UTJGJK      589528089   \n",
       "3          US    48300730  R11547UUVBLNSJ  B003O0NP5K      825510099   \n",
       "4          US    13159702  R28CVQRLMLOHNK  B005O24FG4      663353957   \n",
       "\n",
       "                                       product_title  star_rating  \\\n",
       "0        Serif Digital Scrapbook Artist 2 [Download]            2   \n",
       "1                     Norton Antivirus 2012 - 1 User            5   \n",
       "2                        Math- Algebra II [Download]            1   \n",
       "3        Serif Digital Scrapbook Artist 2 [Download]            1   \n",
       "4  Microsoft Access 2010 (2 PC / 1 User) [OLD VER...            2   \n",
       "\n",
       "   helpful_votes  total_votes vine verified_purchase  \\\n",
       "0              0            0    N                 Y   \n",
       "1              0            0    N                 Y   \n",
       "2              3            4    N                 Y   \n",
       "3              3            4    N                 N   \n",
       "4              4            4    N                 Y   \n",
       "\n",
       "                      review_headline  \\\n",
       "0                                Okay   \n",
       "1  Easy, just look for the small text   \n",
       "2   The powerpoint that doesn't pause   \n",
       "3           Do not buy Serif Software   \n",
       "4                         What's new?   \n",
       "\n",
       "                                         review_body  year review_date  \\\n",
       "0  It is okay except you have to buy packages to ...  2012  2012-09-06   \n",
       "1  It wasn't hard to download and install. The li...  2012  2012-09-06   \n",
       "2  This product sucks donkey bowls.<br />Basicall...  2012  2012-09-06   \n",
       "3  I have purchased several Serif software produc...  2012  2012-09-06   \n",
       "4  I don't know why Microsoft continues to change...  2012  2012-09-06   \n",
       "\n",
       "   product_category  \n",
       "0  Digital_Software  \n",
       "1  Digital_Software  \n",
       "2  Digital_Software  \n",
       "3  Digital_Software  \n",
       "4  Digital_Software  "
      ]
     },
     "execution_count": 12,
     "metadata": {},
     "output_type": "execute_result"
    }
   ],
   "source": [
    "# Execute statement using connection cursor\n",
    "cursor = connect(region_name=region_name, s3_staging_dir=s3_staging_dir).cursor()\n",
    "cursor.execute(statement)\n",
    "\n",
    "df = as_pandas(cursor)\n",
    "df.head(5)"
   ]
  },
  {
   "cell_type": "markdown",
   "metadata": {},
   "source": [
    "### Done! \n",
    "\n",
    "In just a few steps we have set up Amazon Athena to connect to our Amazon Customer Reviews TSV files, and transformed them into Apache Parquet file format. \n",
    "\n",
    "You might have noticed that our second sample query finished in a fraction of the time compared to the one before we ran on the TSV table. We speeded up our query results by leveraging our data being stored as Parquet and partitioned by `product_category`. \n"
   ]
  }
 ],
 "metadata": {
  "kernelspec": {
   "display_name": "conda_python3",
   "language": "python",
   "name": "conda_python3"
  },
  "language_info": {
   "codemirror_mode": {
    "name": "ipython",
    "version": 3
   },
   "file_extension": ".py",
   "mimetype": "text/x-python",
   "name": "python",
   "nbconvert_exporter": "python",
   "pygments_lexer": "ipython3",
   "version": "3.6.5"
  }
 },
 "nbformat": 4,
 "nbformat_minor": 4
}

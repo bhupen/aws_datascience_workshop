{
 "cells": [
  {
   "cell_type": "code",
   "execution_count": 1,
   "metadata": {},
   "outputs": [],
   "source": [
    "import boto3\n",
    "import sagemaker\n",
    "import pandas as pd\n",
    "\n",
    "sess   = sagemaker.Session()\n",
    "bucket = sess.default_bucket()\n",
    "role = sagemaker.get_execution_role()\n",
    "region = boto3.Session().region_name\n",
    "\n",
    "sm = boto3.Session().client(service_name='sagemaker', region_name=region)"
   ]
  },
  {
   "cell_type": "markdown",
   "metadata": {},
   "source": [
    "# Install TensorFlow and Transformers"
   ]
  },
  {
   "cell_type": "code",
   "execution_count": 2,
   "metadata": {},
   "outputs": [
    {
     "name": "stdout",
     "output_type": "stream",
     "text": [
      "Package                            Version   \r\n",
      "---------------------------------- ----------\r\n",
      "absl-py                            0.9.0     \r\n",
      "alabaster                          0.7.10    \r\n",
      "anaconda-client                    1.6.14    \r\n",
      "anaconda-project                   0.8.2     \r\n",
      "asn1crypto                         0.24.0    \r\n",
      "astor                              0.8.1     \r\n",
      "astroid                            1.6.3     \r\n",
      "astropy                            3.0.2     \r\n",
      "attrs                              18.1.0    \r\n",
      "Automat                            0.3.0     \r\n",
      "autovizwidget                      0.15.0    \r\n",
      "awscli                             1.18.39   \r\n",
      "Babel                              2.5.3     \r\n",
      "backcall                           0.1.0     \r\n",
      "backports.shutil-get-terminal-size 1.0.0     \r\n",
      "bcrypt                             3.1.7     \r\n",
      "beautifulsoup4                     4.6.0     \r\n",
      "bitarray                           0.8.1     \r\n",
      "bkcharts                           0.2       \r\n",
      "blaze                              0.11.3    \r\n",
      "bleach                             2.1.3     \r\n",
      "bokeh                              1.0.4     \r\n",
      "boto                               2.48.0    \r\n",
      "boto3                              1.12.39   \r\n",
      "botocore                           1.15.39   \r\n",
      "Bottleneck                         1.2.1     \r\n",
      "cached-property                    1.5.1     \r\n",
      "cachetools                         4.1.0     \r\n",
      "certifi                            2019.11.28\r\n",
      "cffi                               1.11.5    \r\n",
      "characteristic                     14.3.0    \r\n",
      "chardet                            3.0.4     \r\n",
      "click                              6.7       \r\n",
      "cloudpickle                        0.5.3     \r\n",
      "clyent                             1.2.2     \r\n",
      "colorama                           0.3.9     \r\n",
      "contextlib2                        0.5.5     \r\n",
      "cryptography                       2.9       \r\n",
      "cycler                             0.10.0    \r\n",
      "Cython                             0.28.4    \r\n",
      "cytoolz                            0.9.0.1   \r\n",
      "dask                               0.17.5    \r\n",
      "dataclasses                        0.7       \r\n",
      "datashape                          0.5.4     \r\n",
      "decorator                          4.3.0     \r\n",
      "defusedxml                         0.6.0     \r\n",
      "distributed                        1.21.8    \r\n",
      "docker                             4.2.0     \r\n",
      "docker-compose                     1.25.5    \r\n",
      "dockerpty                          0.4.1     \r\n",
      "docopt                             0.6.2     \r\n",
      "docutils                           0.14      \r\n",
      "entrypoints                        0.2.3     \r\n",
      "enum34                             1.1.9     \r\n",
      "environment-kernels                1.1.1     \r\n",
      "et-xmlfile                         1.0.1     \r\n",
      "fastcache                          1.0.2     \r\n",
      "filelock                           3.0.4     \r\n",
      "Flask                              1.0.2     \r\n",
      "Flask-Cors                         3.0.4     \r\n",
      "future                             0.18.2    \r\n",
      "gast                               0.2.2     \r\n",
      "gevent                             1.3.0     \r\n",
      "glob2                              0.6       \r\n",
      "gmpy2                              2.0.8     \r\n",
      "google-auth                        1.14.1    \r\n",
      "google-auth-oauthlib               0.4.1     \r\n",
      "google-pasta                       0.2.0     \r\n",
      "greenlet                           0.4.13    \r\n",
      "grpcio                             1.28.1    \r\n",
      "h5py                               2.8.0     \r\n",
      "hdijupyterutils                    0.15.0    \r\n",
      "heapdict                           1.0.0     \r\n",
      "html5lib                           1.0.1     \r\n",
      "idna                               2.6       \r\n",
      "imageio                            2.3.0     \r\n",
      "imagesize                          1.0.0     \r\n",
      "importlib-metadata                 1.5.0     \r\n",
      "ipykernel                          4.8.2     \r\n",
      "ipyparallel                        6.2.2     \r\n",
      "ipython                            6.4.0     \r\n",
      "ipython-genutils                   0.2.0     \r\n",
      "ipywidgets                         7.4.0     \r\n",
      "isort                              4.3.4     \r\n",
      "itsdangerous                       0.24      \r\n",
      "jdcal                              1.4       \r\n",
      "jedi                               0.12.0    \r\n",
      "Jinja2                             2.10      \r\n",
      "jmespath                           0.9.4     \r\n",
      "joblib                             0.14.1    \r\n",
      "jsonschema                         2.6.0     \r\n",
      "jupyter                            1.0.0     \r\n",
      "jupyter-client                     5.2.3     \r\n",
      "jupyter-console                    5.2.0     \r\n",
      "jupyter-core                       4.4.0     \r\n",
      "jupyterlab                         0.32.1    \r\n",
      "jupyterlab-launcher                0.10.5    \r\n",
      "Keras-Applications                 1.0.8     \r\n",
      "Keras-Preprocessing                1.1.0     \r\n",
      "kiwisolver                         1.0.1     \r\n",
      "lazy-object-proxy                  1.3.1     \r\n",
      "llvmlite                           0.23.1    \r\n",
      "locket                             0.2.0     \r\n",
      "lxml                               4.2.1     \r\n",
      "Markdown                           3.2.1     \r\n",
      "MarkupSafe                         1.0       \r\n",
      "matplotlib                         3.0.3     \r\n",
      "mccabe                             0.6.1     \r\n",
      "mistune                            0.8.3     \r\n",
      "mkl-fft                            1.0.0     \r\n",
      "mkl-random                         1.0.1     \r\n",
      "mock                               4.0.1     \r\n",
      "more-itertools                     4.1.0     \r\n",
      "mpmath                             1.0.0     \r\n",
      "msgpack                            0.6.0     \r\n",
      "msgpack-python                     0.5.6     \r\n",
      "multipledispatch                   0.5.0     \r\n",
      "nb-conda                           2.2.1     \r\n",
      "nb-conda-kernels                   2.2.2     \r\n",
      "nbconvert                          5.4.1     \r\n",
      "nbformat                           4.4.0     \r\n",
      "networkx                           2.1       \r\n",
      "nltk                               3.3       \r\n",
      "nose                               1.3.7     \r\n",
      "notebook                           5.5.0     \r\n",
      "numba                              0.38.0    \r\n",
      "numexpr                            2.6.5     \r\n",
      "numpy                              1.18.3    \r\n",
      "numpydoc                           0.8.0     \r\n",
      "oauthlib                           3.1.0     \r\n",
      "odo                                0.5.1     \r\n",
      "olefile                            0.45.1    \r\n",
      "opencv-python                      3.4.2.17  \r\n",
      "openpyxl                           2.5.3     \r\n",
      "opt-einsum                         3.2.1     \r\n",
      "packaging                          20.1      \r\n",
      "pandas                             1.0.2     \r\n",
      "pandocfilters                      1.4.2     \r\n",
      "paramiko                           2.7.1     \r\n",
      "parso                              0.2.0     \r\n",
      "partd                              0.3.8     \r\n",
      "path.py                            11.0.1    \r\n",
      "pathlib2                           2.3.2     \r\n",
      "patsy                              0.5.0     \r\n",
      "pep8                               1.7.1     \r\n",
      "pexpect                            4.5.0     \r\n",
      "pickleshare                        0.7.4     \r\n",
      "Pillow                             5.1.0     \r\n",
      "pip                                20.0.2    \r\n",
      "pkginfo                            1.4.2     \r\n",
      "plotly                             4.5.2     \r\n",
      "pluggy                             0.6.0     \r\n",
      "ply                                3.11      \r\n",
      "prompt-toolkit                     1.0.15    \r\n",
      "protobuf                           3.11.3    \r\n",
      "protobuf3-to-dict                  0.1.5     \r\n",
      "psutil                             5.4.5     \r\n",
      "psycopg2                           2.7.5     \r\n",
      "ptyprocess                         0.5.2     \r\n",
      "py                                 1.5.3     \r\n",
      "py4j                               0.10.7    \r\n",
      "pyasn1                             0.4.8     \r\n",
      "pyasn1-modules                     0.2.8     \r\n",
      "PyAthena                           1.8.0     \r\n",
      "pycodestyle                        2.4.0     \r\n",
      "pycosat                            0.6.3     \r\n",
      "pycparser                          2.18      \r\n",
      "pycrypto                           2.6.1     \r\n",
      "pycurl                             7.43.0.1  \r\n",
      "pyflakes                           1.6.0     \r\n",
      "pygal                              2.4.0     \r\n",
      "Pygments                           2.2.0     \r\n",
      "pykerberos                         1.2.1     \r\n",
      "pylint                             1.8.4     \r\n",
      "PyNaCl                             1.3.0     \r\n",
      "pyodbc                             4.0.23    \r\n",
      "pyOpenSSL                          18.0.0    \r\n",
      "pyparsing                          2.2.0     \r\n",
      "PySocks                            1.6.8     \r\n",
      "pyspark                            2.3.4     \r\n",
      "pytest                             3.5.1     \r\n",
      "pytest-arraydiff                   0.2       \r\n",
      "pytest-astropy                     0.3.0     \r\n",
      "pytest-doctestplus                 0.1.3     \r\n",
      "pytest-openfiles                   0.3.0     \r\n",
      "pytest-remotedata                  0.2.1     \r\n",
      "python-dateutil                    2.7.3     \r\n",
      "pytz                               2018.4    \r\n",
      "PyWavelets                         0.5.2     \r\n",
      "PyYAML                             5.3.1     \r\n",
      "pyzmq                              17.0.0    \r\n",
      "QtAwesome                          0.4.4     \r\n",
      "qtconsole                          4.3.1     \r\n",
      "QtPy                               1.4.1     \r\n",
      "regex                              2020.4.4  \r\n",
      "requests                           2.23.0    \r\n",
      "requests-kerberos                  0.12.0    \r\n",
      "requests-oauthlib                  1.3.0     \r\n",
      "retrying                           1.3.3     \r\n",
      "rope                               0.10.7    \r\n",
      "rsa                                3.4.2     \r\n",
      "ruamel-yaml                        0.15.35   \r\n",
      "s3fs                               0.1.5     \r\n",
      "s3transfer                         0.3.3     \r\n",
      "sacremoses                         0.0.41    \r\n",
      "sagemaker                          1.55.3    \r\n",
      "sagemaker-experiments              0.1.11    \r\n",
      "sagemaker-pyspark                  1.3.0     \r\n",
      "scikit-image                       0.13.1    \r\n",
      "scikit-learn                       0.20.3    \r\n",
      "scipy                              1.4.1     \r\n",
      "seaborn                            0.8.1     \r\n",
      "Send2Trash                         1.5.0     \r\n",
      "sentencepiece                      0.1.86    \r\n",
      "setuptools                         46.1.3    \r\n",
      "simplegeneric                      0.8.1     \r\n",
      "singledispatch                     3.4.0.3   \r\n",
      "six                                1.14.0    \r\n",
      "smdebug                            0.7.2     \r\n",
      "smdebug-rulesconfig                0.1.2     \r\n",
      "snowballstemmer                    1.2.1     \r\n",
      "sortedcollections                  0.6.1     \r\n",
      "sortedcontainers                   1.5.10    \r\n",
      "sparkmagic                         0.12.5    \r\n",
      "Sphinx                             1.7.4     \r\n",
      "sphinxcontrib-websupport           1.0.1     \r\n",
      "spyder                             3.2.8     \r\n",
      "SQLAlchemy                         1.2.11    \r\n",
      "statsmodels                        0.9.0     \r\n",
      "sympy                              1.1.1     \r\n",
      "tables                             3.4.3     \r\n",
      "tabulate                           0.8.7     \r\n",
      "TBB                                0.1       \r\n",
      "tblib                              1.3.2     \r\n",
      "tenacity                           6.1.0     \r\n",
      "tensorboard                        2.1.1     \r\n",
      "tensorflow                         2.1.0     \r\n",
      "tensorflow-estimator               2.1.0     \r\n",
      "termcolor                          1.1.0     \r\n",
      "terminado                          0.8.1     \r\n",
      "testpath                           0.3.1     \r\n",
      "texttable                          1.6.2     \r\n",
      "tokenizers                         0.5.2     \r\n",
      "toolz                              0.9.0     \r\n",
      "tornado                            5.0.2     \r\n",
      "tqdm                               4.45.0    \r\n",
      "traitlets                          4.3.2     \r\n",
      "transformers                       2.8.0     \r\n",
      "typing                             3.6.4     \r\n",
      "unicodecsv                         0.14.1    \r\n",
      "urllib3                            1.23      \r\n",
      "wcwidth                            0.1.7     \r\n",
      "webencodings                       0.5.1     \r\n",
      "websocket-client                   0.57.0    \r\n",
      "Werkzeug                           0.14.1    \r\n",
      "wheel                              0.31.1    \r\n",
      "widgetsnbextension                 3.4.2     \r\n",
      "wrapt                              1.12.1    \r\n",
      "xlrd                               1.1.0     \r\n",
      "XlsxWriter                         1.0.4     \r\n",
      "xlwt                               1.3.0     \r\n",
      "zict                               0.1.3     \r\n",
      "zipp                               3.0.0     \r\n"
     ]
    }
   ],
   "source": [
    "!pip list"
   ]
  },
  {
   "cell_type": "code",
   "execution_count": 3,
   "metadata": {
    "scrolled": false
   },
   "outputs": [
    {
     "name": "stdout",
     "output_type": "stream",
     "text": [
      "\u001b[31mERROR: awscli 1.18.39 has requirement rsa<=3.5.0,>=3.1.2, but you'll have rsa 4.0 which is incompatible.\u001b[0m\r\n"
     ]
    }
   ],
   "source": [
    "!pip install -q pip --upgrade\n",
    "!pip install -q wrapt --upgrade --ignore-installed\n",
    "!pip install -q tensorflow==2.1.0 --upgrade --ignore-installed\n",
    "!pip install -q transformers==2.8.0"
   ]
  },
  {
   "cell_type": "markdown",
   "metadata": {},
   "source": [
    "# Retrieve the Training Job Name"
   ]
  },
  {
   "cell_type": "code",
   "execution_count": 4,
   "metadata": {},
   "outputs": [],
   "source": [
    "%store -r training_job_name"
   ]
  },
  {
   "cell_type": "code",
   "execution_count": 5,
   "metadata": {},
   "outputs": [
    {
     "name": "stdout",
     "output_type": "stream",
     "text": [
      "Previous training_job_name: tensorflow-training-2020-04-25-18-34-53-740\n"
     ]
    }
   ],
   "source": [
    "print('Previous training_job_name: {}'.format(training_job_name))"
   ]
  },
  {
   "cell_type": "markdown",
   "metadata": {},
   "source": [
    "# Download the Trained Model"
   ]
  },
  {
   "cell_type": "code",
   "execution_count": 6,
   "metadata": {},
   "outputs": [],
   "source": [
    "models_dir = './models'"
   ]
  },
  {
   "cell_type": "code",
   "execution_count": 7,
   "metadata": {},
   "outputs": [
    {
     "name": "stdout",
     "output_type": "stream",
     "text": [
      "download: s3://sagemaker-us-west-2-086401037028/tensorflow-training-2020-04-25-18-34-53-740/output/model.tar.gz to models/model.tar.gz\n"
     ]
    }
   ],
   "source": [
    "# Download the model and output artifacts from AWS S3\n",
    "!aws s3 cp s3://$bucket/$training_job_name/output/model.tar.gz $models_dir/model.tar.gz"
   ]
  },
  {
   "cell_type": "code",
   "execution_count": 8,
   "metadata": {},
   "outputs": [],
   "source": [
    "import tarfile\n",
    "import pickle as pkl\n",
    "\n",
    "#!ls -al ./models\n",
    "\n",
    "tar = tarfile.open('{}/model.tar.gz'.format(models_dir))\n",
    "tar.extractall(path=models_dir)\n",
    "tar.close()"
   ]
  },
  {
   "cell_type": "code",
   "execution_count": 9,
   "metadata": {
    "scrolled": false
   },
   "outputs": [
    {
     "name": "stdout",
     "output_type": "stream",
     "text": [
      "total 908908\r\n",
      "drwxrwxr-x  4 ec2-user ec2-user      4096 Apr 25 19:37 .\r\n",
      "drwxrwxr-x 10 ec2-user ec2-user      4096 Apr 25 19:37 ..\r\n",
      "-rw-rw-r--  1 ec2-user ec2-user 930698988 Apr 25 18:45 model.tar.gz\r\n",
      "drwxr-xr-x  3 ec2-user ec2-user      4096 Apr 25 18:38 tensorflow\r\n",
      "drwxr-xr-x  3 ec2-user ec2-user      4096 Apr 25 18:38 transformers\r\n"
     ]
    }
   ],
   "source": [
    "!ls -al $models_dir"
   ]
  },
  {
   "cell_type": "markdown",
   "metadata": {},
   "source": [
    "# Load the Model"
   ]
  },
  {
   "cell_type": "code",
   "execution_count": 10,
   "metadata": {},
   "outputs": [
    {
     "name": "stdout",
     "output_type": "stream",
     "text": [
      "total 261692\r\n",
      "drwxr-xr-x 2 ec2-user ec2-user      4096 Apr 25 18:43 .\r\n",
      "drwxr-xr-x 3 ec2-user ec2-user      4096 Apr 25 18:38 ..\r\n",
      "-rw-r--r-- 1 ec2-user ec2-user      1358 Apr 25 18:43 config.json\r\n",
      "-rw-r--r-- 1 ec2-user ec2-user 267959068 Apr 25 18:43 tf_model.h5\r\n"
     ]
    }
   ],
   "source": [
    "transformer_model_dir = '{}/transformers/fine-tuned/'.format(models_dir)\n",
    "\n",
    "!ls -al $transformer_model_dir"
   ]
  },
  {
   "cell_type": "code",
   "execution_count": 11,
   "metadata": {},
   "outputs": [
    {
     "name": "stdout",
     "output_type": "stream",
     "text": [
      "{\r\n",
      "  \"_num_labels\": 5,\r\n",
      "  \"activation\": \"gelu\",\r\n",
      "  \"architectures\": [\r\n",
      "    \"DistilBertForMaskedLM\"\r\n",
      "  ],\r\n",
      "  \"attention_dropout\": 0.1,\r\n",
      "  \"bad_words_ids\": null,\r\n",
      "  \"bos_token_id\": null,\r\n",
      "  \"decoder_start_token_id\": null,\r\n",
      "  \"dim\": 768,\r\n",
      "  \"do_sample\": false,\r\n",
      "  \"dropout\": 0.1,\r\n",
      "  \"early_stopping\": false,\r\n",
      "  \"eos_token_id\": null,\r\n",
      "  \"finetuning_task\": null,\r\n",
      "  \"hidden_dim\": 3072,\r\n",
      "  \"id2label\": {\r\n",
      "    \"0\": \"LABEL_0\",\r\n",
      "    \"1\": \"LABEL_1\",\r\n",
      "    \"2\": \"LABEL_2\",\r\n",
      "    \"3\": \"LABEL_3\",\r\n",
      "    \"4\": \"LABEL_4\"\r\n",
      "  },\r\n",
      "  \"initializer_range\": 0.02,\r\n",
      "  \"is_decoder\": false,\r\n",
      "  \"is_encoder_decoder\": false,\r\n",
      "  \"label2id\": {\r\n",
      "    \"LABEL_0\": 0,\r\n",
      "    \"LABEL_1\": 1,\r\n",
      "    \"LABEL_2\": 2,\r\n",
      "    \"LABEL_3\": 3,\r\n",
      "    \"LABEL_4\": 4\r\n",
      "  },\r\n",
      "  \"length_penalty\": 1.0,\r\n",
      "  \"max_length\": 20,\r\n",
      "  \"max_position_embeddings\": 512,\r\n",
      "  \"min_length\": 0,\r\n",
      "  \"model_type\": \"distilbert\",\r\n",
      "  \"n_heads\": 12,\r\n",
      "  \"n_layers\": 6,\r\n",
      "  \"no_repeat_ngram_size\": 0,\r\n",
      "  \"num_beams\": 1,\r\n",
      "  \"num_return_sequences\": 1,\r\n",
      "  \"output_attentions\": false,\r\n",
      "  \"output_hidden_states\": false,\r\n",
      "  \"output_past\": true,\r\n",
      "  \"pad_token_id\": 0,\r\n",
      "  \"prefix\": null,\r\n",
      "  \"pruned_heads\": {},\r\n",
      "  \"qa_dropout\": 0.1,\r\n",
      "  \"repetition_penalty\": 1.0,\r\n",
      "  \"seq_classif_dropout\": 0.2,\r\n",
      "  \"sinusoidal_pos_embds\": false,\r\n",
      "  \"task_specific_params\": null,\r\n",
      "  \"temperature\": 1.0,\r\n",
      "  \"tie_weights_\": true,\r\n",
      "  \"top_k\": 50,\r\n",
      "  \"top_p\": 1.0,\r\n",
      "  \"torchscript\": false,\r\n",
      "  \"use_bfloat16\": false,\r\n",
      "  \"vocab_size\": 30522\r\n",
      "}\r\n"
     ]
    }
   ],
   "source": [
    "cat $transformer_model_dir/config.json"
   ]
  },
  {
   "cell_type": "code",
   "execution_count": 12,
   "metadata": {},
   "outputs": [],
   "source": [
    "import os\n",
    "from transformers import TFDistilBertForSequenceClassification\n",
    "\n",
    "loaded_model = TFDistilBertForSequenceClassification.from_pretrained(transformer_model_dir,\n",
    "                                                                     id2label={\n",
    "                                                                       0: 1,\n",
    "                                                                       1: 2,\n",
    "                                                                       2: 3,\n",
    "                                                                       3: 4,\n",
    "                                                                       4: 5\n",
    "                                                                     },\n",
    "                                                                     label2id={\n",
    "                                                                       1: 0,\n",
    "                                                                       2: 1,\n",
    "                                                                       3: 2,\n",
    "                                                                       4: 3,\n",
    "                                                                       5: 4\n",
    "                                                                     })"
   ]
  },
  {
   "cell_type": "code",
   "execution_count": 13,
   "metadata": {},
   "outputs": [
    {
     "name": "stdout",
     "output_type": "stream",
     "text": [
      "inference_device -1\n"
     ]
    }
   ],
   "source": [
    "from transformers import DistilBertTokenizer\n",
    "\n",
    "tokenizer = DistilBertTokenizer.from_pretrained('distilbert-base-uncased')\n",
    "\n",
    "inference_device = -1 # CPU: -1, GPU: 0\n",
    "print('inference_device {}'.format(inference_device))"
   ]
  },
  {
   "cell_type": "code",
   "execution_count": 14,
   "metadata": {},
   "outputs": [],
   "source": [
    "from transformers import TextClassificationPipeline\n",
    "\n",
    "inference_pipeline = TextClassificationPipeline(model=loaded_model, \n",
    "                                                tokenizer=tokenizer,\n",
    "                                                framework='tf',\n",
    "                                                device=inference_device) # -1 is CPU, >= 0 is GPU"
   ]
  },
  {
   "cell_type": "code",
   "execution_count": 15,
   "metadata": {},
   "outputs": [
    {
     "name": "stdout",
     "output_type": "stream",
     "text": [
      "I loved it!  I will recommend this to everyone. [{'label': 5, 'score': 0.91903657}]\n"
     ]
    }
   ],
   "source": [
    "review = \"\"\"I loved it!  I will recommend this to everyone.\"\"\"\n",
    "print(review, inference_pipeline(review))"
   ]
  },
  {
   "cell_type": "code",
   "execution_count": 16,
   "metadata": {},
   "outputs": [
    {
     "name": "stdout",
     "output_type": "stream",
     "text": [
      "Really bad.  I hope they don't make this anymore. [{'label': 1, 'score': 0.7303662}]\n"
     ]
    }
   ],
   "source": [
    "review = \"\"\"Really bad.  I hope they don't make this anymore.\"\"\"\n",
    "print(review, inference_pipeline(review))"
   ]
  },
  {
   "cell_type": "code",
   "execution_count": 19,
   "metadata": {},
   "outputs": [
    {
     "name": "stdout",
     "output_type": "stream",
     "text": [
      "I am not sure but it is good. [{'label': 4, 'score': 0.43670082}]\n"
     ]
    }
   ],
   "source": [
    "review = \"\"\"I am not sure but it is good.\"\"\"\n",
    "print(review, inference_pipeline(review))"
   ]
  }
 ],
 "metadata": {
  "kernelspec": {
   "display_name": "conda_python3",
   "language": "python",
   "name": "conda_python3"
  },
  "language_info": {
   "codemirror_mode": {
    "name": "ipython",
    "version": 3
   },
   "file_extension": ".py",
   "mimetype": "text/x-python",
   "name": "python",
   "nbconvert_exporter": "python",
   "pygments_lexer": "ipython3",
   "version": "3.6.5"
  }
 },
 "nbformat": 4,
 "nbformat_minor": 4
}
